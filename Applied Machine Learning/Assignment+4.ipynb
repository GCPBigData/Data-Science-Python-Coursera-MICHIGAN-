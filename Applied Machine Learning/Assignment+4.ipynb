{
 "cells": [
  {
   "cell_type": "markdown",
   "metadata": {},
   "source": [
    "---\n",
    "\n",
    "_You are currently looking at **version 1.1** of this notebook. To download notebooks and datafiles, as well as get help on Jupyter notebooks in the Coursera platform, visit the [Jupyter Notebook FAQ](https://www.coursera.org/learn/python-machine-learning/resources/bANLa) course resource._\n",
    "\n",
    "---"
   ]
  },
  {
   "cell_type": "markdown",
   "metadata": {},
   "source": [
    "## Assignment 4 - Understanding and Predicting Property Maintenance Fines\n",
    "\n",
    "This assignment is based on a data challenge from the Michigan Data Science Team ([MDST](http://midas.umich.edu/mdst/)). \n",
    "\n",
    "The Michigan Data Science Team ([MDST](http://midas.umich.edu/mdst/)) and the Michigan Student Symposium for Interdisciplinary Statistical Sciences ([MSSISS](https://sites.lsa.umich.edu/mssiss/)) have partnered with the City of Detroit to help solve one of the most pressing problems facing Detroit - blight. [Blight violations](http://www.detroitmi.gov/How-Do-I/Report/Blight-Complaint-FAQs) are issued by the city to individuals who allow their properties to remain in a deteriorated condition. Every year, the city of Detroit issues millions of dollars in fines to residents and every year, many of these fines remain unpaid. Enforcing unpaid blight fines is a costly and tedious process, so the city wants to know: how can we increase blight ticket compliance?\n",
    "\n",
    "The first step in answering this question is understanding when and why a resident might fail to comply with a blight ticket. This is where predictive modeling comes in. For this assignment, your task is to predict whether a given blight ticket will be paid on time.\n",
    "\n",
    "All data for this assignment has been provided to us through the [Detroit Open Data Portal](https://data.detroitmi.gov/). **Only the data already included in your Coursera directory can be used for training the model for this assignment.** Nonetheless, we encourage you to look into data from other Detroit datasets to help inform feature creation and model selection. We recommend taking a look at the following related datasets:\n",
    "\n",
    "* [Building Permits](https://data.detroitmi.gov/Property-Parcels/Building-Permits/xw2a-a7tf)\n",
    "* [Trades Permits](https://data.detroitmi.gov/Property-Parcels/Trades-Permits/635b-dsgv)\n",
    "* [Improve Detroit: Submitted Issues](https://data.detroitmi.gov/Government/Improve-Detroit-Submitted-Issues/fwz3-w3yn)\n",
    "* [DPD: Citizen Complaints](https://data.detroitmi.gov/Public-Safety/DPD-Citizen-Complaints-2016/kahe-efs3)\n",
    "* [Parcel Map](https://data.detroitmi.gov/Property-Parcels/Parcel-Map/fxkw-udwf)\n",
    "\n",
    "___\n",
    "\n",
    "We provide you with two data files for use in training and validating your models: train.csv and test.csv. Each row in these two files corresponds to a single blight ticket, and includes information about when, why, and to whom each ticket was issued. The target variable is compliance, which is True if the ticket was paid early, on time, or within one month of the hearing data, False if the ticket was paid after the hearing date or not at all, and Null if the violator was found not responsible. Compliance, as well as a handful of other variables that will not be available at test-time, are only included in train.csv.\n",
    "\n",
    "Note: All tickets where the violators were found not responsible are not considered during evaluation. They are included in the training set as an additional source of data for visualization, and to enable unsupervised and semi-supervised approaches. However, they are not included in the test set.\n",
    "\n",
    "<br>\n",
    "\n",
    "**File descriptions** (Use only this data for training your model!)\n",
    "\n",
    "    train.csv - the training set (all tickets issued 2004-2011)\n",
    "    test.csv - the test set (all tickets issued 2012-2016)\n",
    "    addresses.csv & latlons.csv - mapping from ticket id to addresses, and from addresses to lat/lon coordinates. \n",
    "     Note: misspelled addresses may be incorrectly geolocated.\n",
    "\n",
    "<br>\n",
    "\n",
    "**Data fields**\n",
    "\n",
    "train.csv & test.csv\n",
    "\n",
    "    ticket_id - unique identifier for tickets\n",
    "    agency_name - Agency that issued the ticket\n",
    "    inspector_name - Name of inspector that issued the ticket\n",
    "    violator_name - Name of the person/organization that the ticket was issued to\n",
    "    violation_street_number, violation_street_name, violation_zip_code - Address where the violation occurred\n",
    "    mailing_address_str_number, mailing_address_str_name, city, state, zip_code, non_us_str_code, country - Mailing address of the violator\n",
    "    ticket_issued_date - Date and time the ticket was issued\n",
    "    hearing_date - Date and time the violator's hearing was scheduled\n",
    "    violation_code, violation_description - Type of violation\n",
    "    disposition - Judgment and judgement type\n",
    "    fine_amount - Violation fine amount, excluding fees\n",
    "    admin_fee - $20 fee assigned to responsible judgments\n",
    "state_fee - $10 fee assigned to responsible judgments\n",
    "    late_fee - 10% fee assigned to responsible judgments\n",
    "    discount_amount - discount applied, if any\n",
    "    clean_up_cost - DPW clean-up or graffiti removal cost\n",
    "    judgment_amount - Sum of all fines and fees\n",
    "    grafitti_status - Flag for graffiti violations\n",
    "    \n",
    "train.csv only\n",
    "\n",
    "    payment_amount - Amount paid, if any\n",
    "    payment_date - Date payment was made, if it was received\n",
    "    payment_status - Current payment status as of Feb 1 2017\n",
    "    balance_due - Fines and fees still owed\n",
    "    collection_status - Flag for payments in collections\n",
    "    compliance [target variable for prediction] \n",
    "     Null = Not responsible\n",
    "     0 = Responsible, non-compliant\n",
    "     1 = Responsible, compliant\n",
    "    compliance_detail - More information on why each ticket was marked compliant or non-compliant\n",
    "\n",
    "\n",
    "___\n",
    "\n",
    "## Evaluation\n",
    "\n",
    "Your predictions will be given as the probability that the corresponding blight ticket will be paid on time.\n",
    "\n",
    "The evaluation metric for this assignment is the Area Under the ROC Curve (AUC). \n",
    "\n",
    "Your grade will be based on the AUC score computed for your classifier. A model which with an AUROC of 0.7 passes this assignment, over 0.75 will recieve full points.\n",
    "___\n",
    "\n",
    "For this assignment, create a function that trains a model to predict blight ticket compliance in Detroit using `train.csv`. Using this model, return a series of length 61001 with the data being the probability that each corresponding ticket from `test.csv` will be paid, and the index being the ticket_id.\n",
    "\n",
    "Example:\n",
    "\n",
    "    ticket_id\n",
    "       284932    0.531842\n",
    "       285362    0.401958\n",
    "       285361    0.105928\n",
    "       285338    0.018572\n",
    "                 ...\n",
    "       376499    0.208567\n",
    "       376500    0.818759\n",
    "       369851    0.018528\n",
    "       Name: compliance, dtype: float32\n",
    "       \n",
    "### Hints\n",
    "\n",
    "* Make sure your code is working before submitting it to the autograder.\n",
    "\n",
    "* Print out your result to see whether there is anything weird (e.g., all probabilities are the same).\n",
    "\n",
    "* Generally the total runtime should be less than 10 mins. You should NOT use Neural Network related classifiers (e.g., MLPClassifier) in this question. \n",
    "\n",
    "* Try to avoid global variables. If you have other functions besides blight_model, you should move those functions inside the scope of blight_model.\n",
    "\n",
    "* Refer to the pinned threads in Week 4's discussion forum when there is something you could not figure it out."
   ]
  },
  {
   "cell_type": "code",
   "execution_count": 1,
   "metadata": {
    "collapsed": true
   },
   "outputs": [],
   "source": [
    "import pandas as pd\n",
    "import numpy as np"
   ]
  },
  {
   "cell_type": "code",
   "execution_count": 67,
   "metadata": {
    "collapsed": true
   },
   "outputs": [],
   "source": [
    "def blight_model():\n",
    "    \n",
    "    # Your code here\n",
    "    X_train = pd.read_csv('train.csv', encoding='ISO-8859-1')\n",
    "    X_test = pd.read_csv('test.csv', encoding='ISO-8859-1')\n",
    "    \n",
    "    X_train = X_train[pd.notnull(X_train['compliance'])]\n",
    "    y_train = X_train['compliance']\n",
    "    \n",
    "    X_train = X_train.drop(['payment_amount', 'payment_date', 'payment_status', 'balance_due', \n",
    "                       'collection_status', 'compliance', 'compliance_detail'], axis=1)\n",
    "    address = pd.read_csv('addresses.csv')\n",
    "    loc = pd.read_csv('latlons.csv')\n",
    "    X_train = X_train.merge(address.merge(loc, how='inner', on='address'), how='inner', on='ticket_id')\n",
    "    X_test = X_test.merge(address.merge(loc, how='inner', on='address'), how='inner', on='ticket_id')\n",
    "    \n",
    "    X_train.set_index('ticket_id', inplace=True)\n",
    "    X_test.set_index('ticket_id', inplace=True)\n",
    "    \n",
    "    X_train = X_train.drop(['inspector_name', 'violator_name', 'violation_street_number', \n",
    "                      'violation_street_name', 'violation_zip_code', 'mailing_address_str_number',\n",
    "                     'mailing_address_str_number', 'mailing_address_str_name', 'zip_code',\n",
    "                     'non_us_str_code', 'country', 'violation_code', 'city',\n",
    "                    'violation_description', 'fine_amount', 'admin_fee', 'state_fee',\n",
    "                    'late_fee', 'discount_amount', 'clean_up_cost', 'address', 'grafitti_status'], axis=1)\n",
    "    \n",
    "    y_train.reset_index(drop=True, inplace=True)\n",
    "    \n",
    "    X_test = X_test.drop(['inspector_name', 'violator_name', 'violation_street_number', \n",
    "                      'violation_street_name', 'violation_zip_code', 'mailing_address_str_number',\n",
    "                     'mailing_address_str_number', 'mailing_address_str_name', 'zip_code',\n",
    "                     'non_us_str_code', 'country', 'violation_code', 'city',\n",
    "                    'violation_description', 'fine_amount', 'admin_fee', 'state_fee',\n",
    "                    'late_fee', 'discount_amount', 'clean_up_cost', 'address', 'grafitti_status'], axis=1)\n",
    "    \n",
    "    X_train['state'].fillna(method='pad', inplace=True)\n",
    "    X_train['lat'].fillna(method='pad', inplace=True)\n",
    "    X_train['lon'].fillna(method='pad', inplace=True)\n",
    "    \n",
    "    X_test['state'].fillna(method='pad', inplace=True)\n",
    "    X_test['lat'].fillna(method='pad', inplace=True)\n",
    "    X_test['lon'].fillna(method='pad', inplace=True)\n",
    "    \n",
    "    X = pd.concat([X_train, X_test])\n",
    "    X = pd.get_dummies(X, columns=['agency_name', 'state', 'disposition'])\n",
    "    \n",
    "    X_train = X[:len(X_train)]\n",
    "    X_test = X[len(X_train):]\n",
    "    \n",
    "    from datetime import timedelta, datetime\n",
    "    \n",
    "    null_idx = X_train['hearing_date'].isnull()\n",
    "    filld_idx = X_train['hearing_date'].notnull()\n",
    "    X_train['hearing_date'] = pd.to_datetime(X_train[\"hearing_date\"], format=\"%Y-%m-%d %H:%M:%S\")\n",
    "    X_train['ticket_issued_date'] = pd.to_datetime(X_train[\"ticket_issued_date\"], format=\"%Y-%m-%d %H:%M:%S\")\n",
    "    \n",
    "    avg_time_diff = (X_train[filld_idx]['hearing_date'] - X_train[filld_idx]['ticket_issued_date']).mean().days\n",
    "    X_train['Time diff'] = [(date_h - date_i).days if pd.notnull(date_h) else avg_time_diff \\\n",
    "                         for (date_h, date_i) in zip(X_train['hearing_date'], X_train['ticket_issued_date']) ]\n",
    "    \n",
    "    X_train.drop(['hearing_date', 'ticket_issued_date'], axis=1, inplace=True)\n",
    "    \n",
    "    null_idx = X_test['hearing_date'].isnull()\n",
    "    filld_idx = X_test['hearing_date'].notnull()\n",
    "    X_test['hearing_date'] = pd.to_datetime(X_test[\"hearing_date\"], format=\"%Y-%m-%d %H:%M:%S\")\n",
    "    X_test['ticket_issued_date'] = pd.to_datetime(X_test[\"ticket_issued_date\"], format=\"%Y-%m-%d %H:%M:%S\")\n",
    "    \n",
    "    X_test['Time diff'] = [(date_h - date_i).days if pd.notnull(date_h) else avg_time_diff \\\n",
    "                         for (date_h, date_i) in zip(X_test['hearing_date'], X_test['ticket_issued_date']) ]\n",
    "    \n",
    "    X_test.drop(['hearing_date', 'ticket_issued_date'], axis=1, inplace=True)\n",
    "    \n",
    "    from sklearn.preprocessing import MinMaxScaler\n",
    "    \n",
    "    from sklearn.linear_model import LogisticRegression\n",
    "    from sklearn.model_selection import GridSearchCV\n",
    "    from sklearn.metrics import roc_auc_score, confusion_matrix\n",
    "    clf = LogisticRegression()\n",
    "    grid_values = {'C' : [0.001, 0.01, 0.1, 1, 10, 100, 1000]}\n",
    "    grid_clf_roc = GridSearchCV(clf, param_grid=grid_values)\n",
    "    grid_clf_roc.fit(X_train, y_train)\n",
    "    prob = grid_clf_roc.predict_proba(X_test)\n",
    "    prob = [x[1] for x in prob]\n",
    "    result = pd.Series(prob, index=X_test.index)\n",
    "    \n",
    "    return result"
   ]
  },
  {
   "cell_type": "code",
   "execution_count": 68,
   "metadata": {
    "collapsed": false
   },
   "outputs": [
    {
     "name": "stderr",
     "output_type": "stream",
     "text": [
      "/opt/conda/lib/python3.5/site-packages/IPython/core/interactiveshell.py:2827: DtypeWarning: Columns (11,12,31) have mixed types. Specify dtype option on import or set low_memory=False.\n",
      "  if self.run_code(code, result):\n",
      "/opt/conda/lib/python3.5/site-packages/ipykernel/__main__.py:54: SettingWithCopyWarning: \n",
      "A value is trying to be set on a copy of a slice from a DataFrame.\n",
      "Try using .loc[row_indexer,col_indexer] = value instead\n",
      "\n",
      "See the caveats in the documentation: http://pandas.pydata.org/pandas-docs/stable/indexing.html#indexing-view-versus-copy\n",
      "/opt/conda/lib/python3.5/site-packages/ipykernel/__main__.py:55: SettingWithCopyWarning: \n",
      "A value is trying to be set on a copy of a slice from a DataFrame.\n",
      "Try using .loc[row_indexer,col_indexer] = value instead\n",
      "\n",
      "See the caveats in the documentation: http://pandas.pydata.org/pandas-docs/stable/indexing.html#indexing-view-versus-copy\n",
      "/opt/conda/lib/python3.5/site-packages/ipykernel/__main__.py:58: SettingWithCopyWarning: \n",
      "A value is trying to be set on a copy of a slice from a DataFrame.\n",
      "Try using .loc[row_indexer,col_indexer] = value instead\n",
      "\n",
      "See the caveats in the documentation: http://pandas.pydata.org/pandas-docs/stable/indexing.html#indexing-view-versus-copy\n",
      "/opt/conda/lib/python3.5/site-packages/ipykernel/__main__.py:60: SettingWithCopyWarning: \n",
      "A value is trying to be set on a copy of a slice from a DataFrame\n",
      "\n",
      "See the caveats in the documentation: http://pandas.pydata.org/pandas-docs/stable/indexing.html#indexing-view-versus-copy\n",
      "/opt/conda/lib/python3.5/site-packages/ipykernel/__main__.py:64: SettingWithCopyWarning: \n",
      "A value is trying to be set on a copy of a slice from a DataFrame.\n",
      "Try using .loc[row_indexer,col_indexer] = value instead\n",
      "\n",
      "See the caveats in the documentation: http://pandas.pydata.org/pandas-docs/stable/indexing.html#indexing-view-versus-copy\n",
      "/opt/conda/lib/python3.5/site-packages/ipykernel/__main__.py:65: SettingWithCopyWarning: \n",
      "A value is trying to be set on a copy of a slice from a DataFrame.\n",
      "Try using .loc[row_indexer,col_indexer] = value instead\n",
      "\n",
      "See the caveats in the documentation: http://pandas.pydata.org/pandas-docs/stable/indexing.html#indexing-view-versus-copy\n",
      "/opt/conda/lib/python3.5/site-packages/ipykernel/__main__.py:67: SettingWithCopyWarning: \n",
      "A value is trying to be set on a copy of a slice from a DataFrame.\n",
      "Try using .loc[row_indexer,col_indexer] = value instead\n",
      "\n",
      "See the caveats in the documentation: http://pandas.pydata.org/pandas-docs/stable/indexing.html#indexing-view-versus-copy\n",
      "/opt/conda/lib/python3.5/site-packages/ipykernel/__main__.py:69: SettingWithCopyWarning: \n",
      "A value is trying to be set on a copy of a slice from a DataFrame\n",
      "\n",
      "See the caveats in the documentation: http://pandas.pydata.org/pandas-docs/stable/indexing.html#indexing-view-versus-copy\n"
     ]
    },
    {
     "data": {
      "text/plain": [
       "ticket_id\n",
       "284932    0.058532\n",
       "285362    0.036528\n",
       "285361    0.062286\n",
       "285338    0.058952\n",
       "285346    0.062666\n",
       "285345    0.059104\n",
       "285347    0.064380\n",
       "285342    0.284801\n",
       "285530    0.033994\n",
       "284989    0.045400\n",
       "285344    0.064381\n",
       "285343    0.036661\n",
       "285340    0.036660\n",
       "285341    0.064355\n",
       "285349    0.058645\n",
       "285348    0.055298\n",
       "284991    0.046832\n",
       "285532    0.049462\n",
       "285406    0.049435\n",
       "285001    0.036829\n",
       "285006    0.027239\n",
       "285405    0.033736\n",
       "285337    0.045589\n",
       "285496    0.064219\n",
       "285497    0.058827\n",
       "285378    0.033664\n",
       "285589    0.047066\n",
       "285585    0.058966\n",
       "285501    0.062373\n",
       "285581    0.036662\n",
       "            ...   \n",
       "376367    0.031846\n",
       "376366    0.042985\n",
       "376362    0.220108\n",
       "376363    0.225502\n",
       "376365    0.031846\n",
       "376364    0.042985\n",
       "376228    0.042740\n",
       "376265    0.042621\n",
       "376286    0.206551\n",
       "376320    0.042984\n",
       "376314    0.043042\n",
       "376327    0.208266\n",
       "376385    0.208086\n",
       "376435    0.176806\n",
       "376370    0.221847\n",
       "376434    0.061095\n",
       "376459    0.059370\n",
       "376478    0.002971\n",
       "376473    0.042895\n",
       "376484    0.041438\n",
       "376482    0.035131\n",
       "376480    0.035131\n",
       "376479    0.035131\n",
       "376481    0.035131\n",
       "376483    0.040810\n",
       "376496    0.027281\n",
       "376497    0.027281\n",
       "376499    0.059442\n",
       "376500    0.059442\n",
       "369851    0.064528\n",
       "dtype: float64"
      ]
     },
     "execution_count": 68,
     "metadata": {},
     "output_type": "execute_result"
    }
   ],
   "source": [
    "blight_model()"
   ]
  },
  {
   "cell_type": "code",
   "execution_count": 4,
   "metadata": {
    "collapsed": false
   },
   "outputs": [
    {
     "name": "stderr",
     "output_type": "stream",
     "text": [
      "/opt/conda/lib/python3.5/site-packages/IPython/core/interactiveshell.py:2717: DtypeWarning: Columns (11,12,31) have mixed types. Specify dtype option on import or set low_memory=False.\n",
      "  interactivity=interactivity, compiler=compiler, result=result)\n"
     ]
    }
   ],
   "source": [
    "X_Tr = pd.read_csv('train.csv', encoding='ISO-8859-1')"
   ]
  },
  {
   "cell_type": "code",
   "execution_count": 5,
   "metadata": {
    "collapsed": false
   },
   "outputs": [],
   "source": [
    "X_Tr = X_Tr[pd.notnull(X_Tr['compliance'])]\n",
    "Y_Tr = X_Tr['compliance']"
   ]
  },
  {
   "cell_type": "code",
   "execution_count": 6,
   "metadata": {
    "collapsed": false
   },
   "outputs": [],
   "source": [
    "X_Tr = X_Tr.drop(['payment_amount', 'payment_date', 'payment_status', 'balance_due', \n",
    "                       'collection_status', 'compliance', 'compliance_detail'], axis=1)\n",
    "address = pd.read_csv('addresses.csv')\n",
    "loc = pd.read_csv('latlons.csv')\n",
    "X_Tr = X_Tr.merge(address.merge(loc, how='inner', on='address'), how='inner', on='ticket_id')\n",
    "    \n",
    "X_Tr = X_Tr.drop(['ticket_id', 'inspector_name', 'violator_name', 'violation_street_number', \n",
    "                  'violation_street_name', 'violation_zip_code', 'mailing_address_str_number',\n",
    "                 'mailing_address_str_number', 'mailing_address_str_name', 'zip_code',\n",
    "                 'non_us_str_code', 'country', 'violation_code', 'city',\n",
    "                'violation_description', 'fine_amount', 'admin_fee', 'state_fee',\n",
    "                'late_fee', 'discount_amount', 'clean_up_cost', 'address', 'grafitti_status'], axis=1)\n",
    "\n",
    "Y_Tr.reset_index(drop=True, inplace=True)"
   ]
  },
  {
   "cell_type": "code",
   "execution_count": 7,
   "metadata": {
    "collapsed": false
   },
   "outputs": [
    {
     "data": {
      "text/plain": [
       "Index(['agency_name', 'state', 'ticket_issued_date', 'hearing_date',\n",
       "       'disposition', 'judgment_amount', 'lat', 'lon'],\n",
       "      dtype='object')"
      ]
     },
     "execution_count": 7,
     "metadata": {},
     "output_type": "execute_result"
    }
   ],
   "source": [
    "X_Tr.columns"
   ]
  },
  {
   "cell_type": "code",
   "execution_count": 8,
   "metadata": {
    "collapsed": true
   },
   "outputs": [],
   "source": [
    "X_Tr['state'].fillna(method='pad', inplace=True)\n",
    "X_Tr['lat'].fillna(method='pad', inplace=True)\n",
    "X_Tr['lon'].fillna(method='pad', inplace=True)"
   ]
  },
  {
   "cell_type": "code",
   "execution_count": 9,
   "metadata": {
    "collapsed": false
   },
   "outputs": [],
   "source": [
    "from sklearn.model_selection import train_test_split\n",
    "\n",
    "x_tr, x_ts, y_tr, y_ts = train_test_split(X_Tr, Y_Tr, random_state=1)"
   ]
  },
  {
   "cell_type": "code",
   "execution_count": 10,
   "metadata": {
    "collapsed": false
   },
   "outputs": [],
   "source": [
    "X = pd.concat([x_tr, x_ts])\n",
    "X = pd.get_dummies(X, columns=['agency_name', 'state', 'disposition'])\n",
    "\n",
    "x_tr = X[:len(x_tr)]\n",
    "x_ts = X[len(x_tr):]"
   ]
  },
  {
   "cell_type": "code",
   "execution_count": 11,
   "metadata": {
    "collapsed": false
   },
   "outputs": [
    {
     "name": "stderr",
     "output_type": "stream",
     "text": [
      "/opt/conda/lib/python3.5/site-packages/ipykernel/__main__.py:5: SettingWithCopyWarning: \n",
      "A value is trying to be set on a copy of a slice from a DataFrame.\n",
      "Try using .loc[row_indexer,col_indexer] = value instead\n",
      "\n",
      "See the caveats in the documentation: http://pandas.pydata.org/pandas-docs/stable/indexing.html#indexing-view-versus-copy\n",
      "/opt/conda/lib/python3.5/site-packages/ipykernel/__main__.py:6: SettingWithCopyWarning: \n",
      "A value is trying to be set on a copy of a slice from a DataFrame.\n",
      "Try using .loc[row_indexer,col_indexer] = value instead\n",
      "\n",
      "See the caveats in the documentation: http://pandas.pydata.org/pandas-docs/stable/indexing.html#indexing-view-versus-copy\n",
      "/opt/conda/lib/python3.5/site-packages/ipykernel/__main__.py:9: SettingWithCopyWarning: \n",
      "A value is trying to be set on a copy of a slice from a DataFrame.\n",
      "Try using .loc[row_indexer,col_indexer] = value instead\n",
      "\n",
      "See the caveats in the documentation: http://pandas.pydata.org/pandas-docs/stable/indexing.html#indexing-view-versus-copy\n",
      "/opt/conda/lib/python3.5/site-packages/ipykernel/__main__.py:11: SettingWithCopyWarning: \n",
      "A value is trying to be set on a copy of a slice from a DataFrame\n",
      "\n",
      "See the caveats in the documentation: http://pandas.pydata.org/pandas-docs/stable/indexing.html#indexing-view-versus-copy\n"
     ]
    }
   ],
   "source": [
    "from datetime import timedelta, datetime\n",
    "\n",
    "null_idx = x_tr['hearing_date'].isnull()\n",
    "filld_idx = x_tr['hearing_date'].notnull()\n",
    "x_tr['hearing_date'] = pd.to_datetime(x_tr[\"hearing_date\"], format=\"%Y-%m-%d %H:%M:%S\")\n",
    "x_tr['ticket_issued_date'] = pd.to_datetime(x_tr[\"ticket_issued_date\"], format=\"%Y-%m-%d %H:%M:%S\")\n",
    "\n",
    "avg_time_diff = (x_tr[filld_idx]['hearing_date'] - x_tr[filld_idx]['ticket_issued_date']).mean().days\n",
    "x_tr['Time diff'] = [(date_h - date_i).days if pd.notnull(date_h) else avg_time_diff \\\n",
    "                     for (date_h, date_i) in zip(x_tr['hearing_date'], x_tr['ticket_issued_date']) ]\n",
    "\n",
    "x_tr.drop(['hearing_date', 'ticket_issued_date'], axis=1, inplace=True)"
   ]
  },
  {
   "cell_type": "code",
   "execution_count": 12,
   "metadata": {
    "collapsed": false
   },
   "outputs": [
    {
     "name": "stderr",
     "output_type": "stream",
     "text": [
      "/opt/conda/lib/python3.5/site-packages/ipykernel/__main__.py:3: SettingWithCopyWarning: \n",
      "A value is trying to be set on a copy of a slice from a DataFrame.\n",
      "Try using .loc[row_indexer,col_indexer] = value instead\n",
      "\n",
      "See the caveats in the documentation: http://pandas.pydata.org/pandas-docs/stable/indexing.html#indexing-view-versus-copy\n",
      "  app.launch_new_instance()\n",
      "/opt/conda/lib/python3.5/site-packages/ipykernel/__main__.py:4: SettingWithCopyWarning: \n",
      "A value is trying to be set on a copy of a slice from a DataFrame.\n",
      "Try using .loc[row_indexer,col_indexer] = value instead\n",
      "\n",
      "See the caveats in the documentation: http://pandas.pydata.org/pandas-docs/stable/indexing.html#indexing-view-versus-copy\n",
      "/opt/conda/lib/python3.5/site-packages/ipykernel/__main__.py:6: SettingWithCopyWarning: \n",
      "A value is trying to be set on a copy of a slice from a DataFrame.\n",
      "Try using .loc[row_indexer,col_indexer] = value instead\n",
      "\n",
      "See the caveats in the documentation: http://pandas.pydata.org/pandas-docs/stable/indexing.html#indexing-view-versus-copy\n",
      "/opt/conda/lib/python3.5/site-packages/ipykernel/__main__.py:8: SettingWithCopyWarning: \n",
      "A value is trying to be set on a copy of a slice from a DataFrame\n",
      "\n",
      "See the caveats in the documentation: http://pandas.pydata.org/pandas-docs/stable/indexing.html#indexing-view-versus-copy\n"
     ]
    }
   ],
   "source": [
    "null_idx = x_ts['hearing_date'].isnull()\n",
    "filld_idx = x_ts['hearing_date'].notnull()\n",
    "x_ts['hearing_date'] = pd.to_datetime(x_ts[\"hearing_date\"], format=\"%Y-%m-%d %H:%M:%S\")\n",
    "x_ts['ticket_issued_date'] = pd.to_datetime(x_ts[\"ticket_issued_date\"], format=\"%Y-%m-%d %H:%M:%S\")\n",
    "\n",
    "x_ts['Time diff'] = [(date_h - date_i).days if pd.notnull(date_h) else avg_time_diff \\\n",
    "                     for (date_h, date_i) in zip(x_ts['hearing_date'], x_ts['ticket_issued_date']) ]\n",
    "\n",
    "x_ts.drop(['hearing_date', 'ticket_issued_date'], axis=1, inplace=True)"
   ]
  },
  {
   "cell_type": "code",
   "execution_count": 13,
   "metadata": {
    "collapsed": true
   },
   "outputs": [],
   "source": [
    "from sklearn.linear_model import LogisticRegression\n",
    "from sklearn.tree import DecisionTreeClassifier\n",
    "from sklearn.ensemble import RandomForestClassifier\n",
    "from sklearn.ensemble import GradientBoostingClassifier\n",
    "from sklearn.svm import SVC\n",
    "from sklearn.model_selection import GridSearchCV\n",
    "from sklearn.metrics import roc_auc_score, confusion_matrix"
   ]
  },
  {
   "cell_type": "code",
   "execution_count": 29,
   "metadata": {
    "collapsed": false
   },
   "outputs": [
    {
     "data": {
      "text/plain": [
       "LogisticRegression(C=1.0, class_weight=None, dual=False, fit_intercept=True,\n",
       "          intercept_scaling=1, max_iter=100, multi_class='ovr', n_jobs=1,\n",
       "          penalty='l2', random_state=None, solver='liblinear', tol=0.0001,\n",
       "          verbose=0, warm_start=False)"
      ]
     },
     "execution_count": 29,
     "metadata": {},
     "output_type": "execute_result"
    }
   ],
   "source": [
    "clf = LogisticRegression()\n",
    "clf.fit(x_tr, y_tr)"
   ]
  },
  {
   "cell_type": "code",
   "execution_count": 32,
   "metadata": {
    "collapsed": false
   },
   "outputs": [
    {
     "data": {
      "text/plain": [
       "0.76498035946933518"
      ]
     },
     "execution_count": 32,
     "metadata": {},
     "output_type": "execute_result"
    }
   ],
   "source": [
    "roc_auc_score(y_tr, clf.decision_function(x_tr))"
   ]
  },
  {
   "cell_type": "code",
   "execution_count": 33,
   "metadata": {
    "collapsed": true
   },
   "outputs": [],
   "source": [
    "from sklearn.preprocessing import MinMaxScaler\n",
    "minmax = MinMaxScaler()"
   ]
  },
  {
   "cell_type": "code",
   "execution_count": 34,
   "metadata": {
    "collapsed": true
   },
   "outputs": [],
   "source": [
    "x_tr = minmax.fit_transform(x_tr)\n",
    "x_ts = minmax.transform(x_ts)"
   ]
  },
  {
   "cell_type": "code",
   "execution_count": 35,
   "metadata": {
    "collapsed": false
   },
   "outputs": [
    {
     "data": {
      "text/plain": [
       "LogisticRegression(C=1.0, class_weight=None, dual=False, fit_intercept=True,\n",
       "          intercept_scaling=1, max_iter=100, multi_class='ovr', n_jobs=1,\n",
       "          penalty='l2', random_state=None, solver='liblinear', tol=0.0001,\n",
       "          verbose=0, warm_start=False)"
      ]
     },
     "execution_count": 35,
     "metadata": {},
     "output_type": "execute_result"
    }
   ],
   "source": [
    "clf.fit(x_tr, y_tr)"
   ]
  },
  {
   "cell_type": "code",
   "execution_count": 37,
   "metadata": {
    "collapsed": false
   },
   "outputs": [
    {
     "data": {
      "text/plain": [
       "0.76745626254456112"
      ]
     },
     "execution_count": 37,
     "metadata": {},
     "output_type": "execute_result"
    }
   ],
   "source": [
    "roc_auc_score(y_ts, clf.decision_function(x_ts))"
   ]
  },
  {
   "cell_type": "code",
   "execution_count": 39,
   "metadata": {
    "collapsed": false
   },
   "outputs": [
    {
     "data": {
      "text/plain": [
       "0.76947978046156806"
      ]
     },
     "execution_count": 39,
     "metadata": {},
     "output_type": "execute_result"
    }
   ],
   "source": [
    "roc_auc_score(y_tr, clf.decision_function(x_tr))"
   ]
  },
  {
   "cell_type": "code",
   "execution_count": 44,
   "metadata": {
    "collapsed": false
   },
   "outputs": [
    {
     "name": "stdout",
     "output_type": "stream",
     "text": [
      "0.001\n",
      "0.01\n",
      "0.1\n",
      "1\n",
      "10\n",
      "100\n",
      "1000\n"
     ]
    }
   ],
   "source": [
    "# roc_tr = []\n",
    "# roc_ts = []\n",
    "# parameter = []\n",
    "# for param in [0.001, 0.01, 0.1, 1, 10, 100, 1000]:\n",
    "#     print(param)\n",
    "#     clf = LogisticRegression(C=param)\n",
    "#     clf.fit(x_tr, y_tr)\n",
    "#     roc_tr.append(roc_auc_score(y_tr, clf.decision_function(x_tr)))\n",
    "#     roc_ts.append(roc_auc_score(y_ts, clf.decision_function(x_ts)))\n",
    "#     parameter.append(param)"
   ]
  },
  {
   "cell_type": "code",
   "execution_count": 45,
   "metadata": {
    "collapsed": false
   },
   "outputs": [
    {
     "data": {
      "image/png": "[encoded data removed]",
      "text/plain": [
       "<matplotlib.figure.Figure at 0x7f7b3843e8d0>"
      ]
     },
     "metadata": {},
     "output_type": "display_data"
    }
   ],
   "source": [
    "# import matplotlib.pyplot as plt\n",
    "# plt.plot(parameter, roc_tr)\n",
    "# plt.plot(parameter, roc_ts)\n",
    "# plt.show()"
   ]
  },
  {
   "cell_type": "code",
   "execution_count": null,
   "metadata": {
    "collapsed": true
   },
   "outputs": [],
   "source": []
  }
 ],
 "metadata": {
  "coursera": {
   "course_slug": "python-machine-learning",
   "graded_item_id": "nNS8l",
   "launcher_item_id": "yWWk7",
   "part_id": "w8BSS"
  },
  "kernelspec": {
   "display_name": "Python 3",
   "language": "python",
   "name": "python3"
  },
  "language_info": {
   "codemirror_mode": {
    "name": "ipython",
    "version": 3
   },
   "file_extension": ".py",
   "mimetype": "text/x-python",
   "name": "python",
   "nbconvert_exporter": "python",
   "pygments_lexer": "ipython3",
   "version": "3.5.2"
  }
 },
 "nbformat": 4,
 "nbformat_minor": 2
}
